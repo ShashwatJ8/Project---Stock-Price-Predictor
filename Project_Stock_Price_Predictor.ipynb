{
  "nbformat": 4,
  "nbformat_minor": 0,
  "metadata": {
    "colab": {
      "provenance": []
    },
    "kernelspec": {
      "name": "python3",
      "display_name": "Python 3"
    },
    "language_info": {
      "name": "python"
    }
  },
  "cells": [
    {
      "cell_type": "code",
      "execution_count": null,
      "metadata": {
        "id": "wsA6VhECL_1r"
      },
      "outputs": [],
      "source": []
    },
    {
      "cell_type": "markdown",
      "source": [
        "## **Stock Price Predictor - Project**"
      ],
      "metadata": {
        "id": "pKWUhZyPMIU2"
      }
    },
    {
      "cell_type": "code",
      "source": [
        "import pandas as pd\n",
        "import numpy as np\n",
        "\n",
        "import yfinance as yf\n",
        "import seaborn as sns\n",
        "import matplotlib.pyplot as plt\n",
        "%matplotlib inline"
      ],
      "metadata": {
        "id": "lvTDkqbbMQjW"
      },
      "execution_count": 2,
      "outputs": []
    },
    {
      "cell_type": "code",
      "source": [
        "stocks = input(\"Enter the code of the stock:- \")\n",
        "data = yf.download(stocks, \"2005-01-01\", \"2023-06-18\", auto_adjust=True)\n",
        "data.head()"
      ],
      "metadata": {
        "colab": {
          "base_uri": "https://localhost:8080/",
          "height": 272
        },
        "id": "L14M7JXAMq09",
        "outputId": "ad00a71c-30cf-4e33-a973-766104ecae84"
      },
      "execution_count": 3,
      "outputs": [
        {
          "output_type": "stream",
          "name": "stdout",
          "text": [
            "Enter the code of the stock:- NG=F\n",
            "[*********************100%***********************]  1 of 1 completed\n"
          ]
        },
        {
          "output_type": "execute_result",
          "data": {
            "text/plain": [
              "             Open   High   Low  Close  Volume\n",
              "Date                                         \n",
              "2005-01-03  5.949  5.949  5.71  5.790   23383\n",
              "2005-01-04  5.780  5.990  5.77  5.902   24801\n",
              "2005-01-05  5.930  5.978  5.76  5.833   23075\n",
              "2005-01-06  5.835  6.070  5.76  6.049   26666\n",
              "2005-01-07  6.020  6.100  5.90  6.001   31121"
            ],
            "text/html": [
              "\n",
              "  <div id=\"df-32bcdf4b-4daf-42ac-b61a-99b7cbf5ca4b\">\n",
              "    <div class=\"colab-df-container\">\n",
              "      <div>\n",
              "<style scoped>\n",
              "    .dataframe tbody tr th:only-of-type {\n",
              "        vertical-align: middle;\n",
              "    }\n",
              "\n",
              "    .dataframe tbody tr th {\n",
              "        vertical-align: top;\n",
              "    }\n",
              "\n",
              "    .dataframe thead th {\n",
              "        text-align: right;\n",
              "    }\n",
              "</style>\n",
              "<table border=\"1\" class=\"dataframe\">\n",
              "  <thead>\n",
              "    <tr style=\"text-align: right;\">\n",
              "      <th></th>\n",
              "      <th>Open</th>\n",
              "      <th>High</th>\n",
              "      <th>Low</th>\n",
              "      <th>Close</th>\n",
              "      <th>Volume</th>\n",
              "    </tr>\n",
              "    <tr>\n",
              "      <th>Date</th>\n",
              "      <th></th>\n",
              "      <th></th>\n",
              "      <th></th>\n",
              "      <th></th>\n",
              "      <th></th>\n",
              "    </tr>\n",
              "  </thead>\n",
              "  <tbody>\n",
              "    <tr>\n",
              "      <th>2005-01-03</th>\n",
              "      <td>5.949</td>\n",
              "      <td>5.949</td>\n",
              "      <td>5.71</td>\n",
              "      <td>5.790</td>\n",
              "      <td>23383</td>\n",
              "    </tr>\n",
              "    <tr>\n",
              "      <th>2005-01-04</th>\n",
              "      <td>5.780</td>\n",
              "      <td>5.990</td>\n",
              "      <td>5.77</td>\n",
              "      <td>5.902</td>\n",
              "      <td>24801</td>\n",
              "    </tr>\n",
              "    <tr>\n",
              "      <th>2005-01-05</th>\n",
              "      <td>5.930</td>\n",
              "      <td>5.978</td>\n",
              "      <td>5.76</td>\n",
              "      <td>5.833</td>\n",
              "      <td>23075</td>\n",
              "    </tr>\n",
              "    <tr>\n",
              "      <th>2005-01-06</th>\n",
              "      <td>5.835</td>\n",
              "      <td>6.070</td>\n",
              "      <td>5.76</td>\n",
              "      <td>6.049</td>\n",
              "      <td>26666</td>\n",
              "    </tr>\n",
              "    <tr>\n",
              "      <th>2005-01-07</th>\n",
              "      <td>6.020</td>\n",
              "      <td>6.100</td>\n",
              "      <td>5.90</td>\n",
              "      <td>6.001</td>\n",
              "      <td>31121</td>\n",
              "    </tr>\n",
              "  </tbody>\n",
              "</table>\n",
              "</div>\n",
              "      <button class=\"colab-df-convert\" onclick=\"convertToInteractive('df-32bcdf4b-4daf-42ac-b61a-99b7cbf5ca4b')\"\n",
              "              title=\"Convert this dataframe to an interactive table.\"\n",
              "              style=\"display:none;\">\n",
              "        \n",
              "  <svg xmlns=\"http://www.w3.org/2000/svg\" height=\"24px\"viewBox=\"0 0 24 24\"\n",
              "       width=\"24px\">\n",
              "    <path d=\"M0 0h24v24H0V0z\" fill=\"none\"/>\n",
              "    <path d=\"M18.56 5.44l.94 2.06.94-2.06 2.06-.94-2.06-.94-.94-2.06-.94 2.06-2.06.94zm-11 1L8.5 8.5l.94-2.06 2.06-.94-2.06-.94L8.5 2.5l-.94 2.06-2.06.94zm10 10l.94 2.06.94-2.06 2.06-.94-2.06-.94-.94-2.06-.94 2.06-2.06.94z\"/><path d=\"M17.41 7.96l-1.37-1.37c-.4-.4-.92-.59-1.43-.59-.52 0-1.04.2-1.43.59L10.3 9.45l-7.72 7.72c-.78.78-.78 2.05 0 2.83L4 21.41c.39.39.9.59 1.41.59.51 0 1.02-.2 1.41-.59l7.78-7.78 2.81-2.81c.8-.78.8-2.07 0-2.86zM5.41 20L4 18.59l7.72-7.72 1.47 1.35L5.41 20z\"/>\n",
              "  </svg>\n",
              "      </button>\n",
              "      \n",
              "  <style>\n",
              "    .colab-df-container {\n",
              "      display:flex;\n",
              "      flex-wrap:wrap;\n",
              "      gap: 12px;\n",
              "    }\n",
              "\n",
              "    .colab-df-convert {\n",
              "      background-color: #E8F0FE;\n",
              "      border: none;\n",
              "      border-radius: 50%;\n",
              "      cursor: pointer;\n",
              "      display: none;\n",
              "      fill: #1967D2;\n",
              "      height: 32px;\n",
              "      padding: 0 0 0 0;\n",
              "      width: 32px;\n",
              "    }\n",
              "\n",
              "    .colab-df-convert:hover {\n",
              "      background-color: #E2EBFA;\n",
              "      box-shadow: 0px 1px 2px rgba(60, 64, 67, 0.3), 0px 1px 3px 1px rgba(60, 64, 67, 0.15);\n",
              "      fill: #174EA6;\n",
              "    }\n",
              "\n",
              "    [theme=dark] .colab-df-convert {\n",
              "      background-color: #3B4455;\n",
              "      fill: #D2E3FC;\n",
              "    }\n",
              "\n",
              "    [theme=dark] .colab-df-convert:hover {\n",
              "      background-color: #434B5C;\n",
              "      box-shadow: 0px 1px 3px 1px rgba(0, 0, 0, 0.15);\n",
              "      filter: drop-shadow(0px 1px 2px rgba(0, 0, 0, 0.3));\n",
              "      fill: #FFFFFF;\n",
              "    }\n",
              "  </style>\n",
              "\n",
              "      <script>\n",
              "        const buttonEl =\n",
              "          document.querySelector('#df-32bcdf4b-4daf-42ac-b61a-99b7cbf5ca4b button.colab-df-convert');\n",
              "        buttonEl.style.display =\n",
              "          google.colab.kernel.accessAllowed ? 'block' : 'none';\n",
              "\n",
              "        async function convertToInteractive(key) {\n",
              "          const element = document.querySelector('#df-32bcdf4b-4daf-42ac-b61a-99b7cbf5ca4b');\n",
              "          const dataTable =\n",
              "            await google.colab.kernel.invokeFunction('convertToInteractive',\n",
              "                                                     [key], {});\n",
              "          if (!dataTable) return;\n",
              "\n",
              "          const docLinkHtml = 'Like what you see? Visit the ' +\n",
              "            '<a target=\"_blank\" href=https://colab.research.google.com/notebooks/data_table.ipynb>data table notebook</a>'\n",
              "            + ' to learn more about interactive tables.';\n",
              "          element.innerHTML = '';\n",
              "          dataTable['output_type'] = 'display_data';\n",
              "          await google.colab.output.renderOutput(dataTable, element);\n",
              "          const docLink = document.createElement('div');\n",
              "          docLink.innerHTML = docLinkHtml;\n",
              "          element.appendChild(docLink);\n",
              "        }\n",
              "      </script>\n",
              "    </div>\n",
              "  </div>\n",
              "  "
            ]
          },
          "metadata": {},
          "execution_count": 3
        }
      ]
    },
    {
      "cell_type": "code",
      "source": [
        "data.shape"
      ],
      "metadata": {
        "colab": {
          "base_uri": "https://localhost:8080/"
        },
        "id": "xD7EBTRAvX26",
        "outputId": "9cfd7c8b-cb50-4cf0-d65e-a7ec9238a671"
      },
      "execution_count": 4,
      "outputs": [
        {
          "output_type": "execute_result",
          "data": {
            "text/plain": [
              "(4646, 5)"
            ]
          },
          "metadata": {},
          "execution_count": 4
        }
      ]
    },
    {
      "cell_type": "code",
      "source": [
        "data.info()"
      ],
      "metadata": {
        "colab": {
          "base_uri": "https://localhost:8080/"
        },
        "id": "c3BVmStQvpgM",
        "outputId": "cdd15628-5f79-4cfe-a7e0-2d84d5fe740a"
      },
      "execution_count": 5,
      "outputs": [
        {
          "output_type": "stream",
          "name": "stdout",
          "text": [
            "<class 'pandas.core.frame.DataFrame'>\n",
            "DatetimeIndex: 4646 entries, 2005-01-03 to 2023-06-16\n",
            "Data columns (total 5 columns):\n",
            " #   Column  Non-Null Count  Dtype  \n",
            "---  ------  --------------  -----  \n",
            " 0   Open    4646 non-null   float64\n",
            " 1   High    4646 non-null   float64\n",
            " 2   Low     4646 non-null   float64\n",
            " 3   Close   4646 non-null   float64\n",
            " 4   Volume  4646 non-null   int64  \n",
            "dtypes: float64(4), int64(1)\n",
            "memory usage: 217.8 KB\n"
          ]
        }
      ]
    },
    {
      "cell_type": "code",
      "source": [
        "data.describe()"
      ],
      "metadata": {
        "colab": {
          "base_uri": "https://localhost:8080/",
          "height": 300
        },
        "id": "w9VukHq7vrZP",
        "outputId": "46986216-2ee9-4f74-b9d3-666cb56ac423"
      },
      "execution_count": 6,
      "outputs": [
        {
          "output_type": "execute_result",
          "data": {
            "text/plain": [
              "              Open         High          Low        Close         Volume\n",
              "count  4646.000000  4646.000000  4646.000000  4646.000000    4646.000000\n",
              "mean      4.489484     4.592929     4.382381     4.482476  116010.846535\n",
              "std       2.379693     2.444985     2.315569     2.377700   59958.390176\n",
              "min       1.441000     1.567000     1.432000     1.482000       0.000000\n",
              "25%       2.787000     2.838250     2.736250     2.781250   69065.250000\n",
              "50%       3.764500     3.838500     3.680000     3.754000  113111.000000\n",
              "75%       5.708750     5.878250     5.547750     5.702250  152560.000000\n",
              "max      15.160000    15.780000    14.851000    15.378000  459196.000000"
            ],
            "text/html": [
              "\n",
              "  <div id=\"df-80ea2d68-049b-43bc-b67e-b0b1ee2b8577\">\n",
              "    <div class=\"colab-df-container\">\n",
              "      <div>\n",
              "<style scoped>\n",
              "    .dataframe tbody tr th:only-of-type {\n",
              "        vertical-align: middle;\n",
              "    }\n",
              "\n",
              "    .dataframe tbody tr th {\n",
              "        vertical-align: top;\n",
              "    }\n",
              "\n",
              "    .dataframe thead th {\n",
              "        text-align: right;\n",
              "    }\n",
              "</style>\n",
              "<table border=\"1\" class=\"dataframe\">\n",
              "  <thead>\n",
              "    <tr style=\"text-align: right;\">\n",
              "      <th></th>\n",
              "      <th>Open</th>\n",
              "      <th>High</th>\n",
              "      <th>Low</th>\n",
              "      <th>Close</th>\n",
              "      <th>Volume</th>\n",
              "    </tr>\n",
              "  </thead>\n",
              "  <tbody>\n",
              "    <tr>\n",
              "      <th>count</th>\n",
              "      <td>4646.000000</td>\n",
              "      <td>4646.000000</td>\n",
              "      <td>4646.000000</td>\n",
              "      <td>4646.000000</td>\n",
              "      <td>4646.000000</td>\n",
              "    </tr>\n",
              "    <tr>\n",
              "      <th>mean</th>\n",
              "      <td>4.489484</td>\n",
              "      <td>4.592929</td>\n",
              "      <td>4.382381</td>\n",
              "      <td>4.482476</td>\n",
              "      <td>116010.846535</td>\n",
              "    </tr>\n",
              "    <tr>\n",
              "      <th>std</th>\n",
              "      <td>2.379693</td>\n",
              "      <td>2.444985</td>\n",
              "      <td>2.315569</td>\n",
              "      <td>2.377700</td>\n",
              "      <td>59958.390176</td>\n",
              "    </tr>\n",
              "    <tr>\n",
              "      <th>min</th>\n",
              "      <td>1.441000</td>\n",
              "      <td>1.567000</td>\n",
              "      <td>1.432000</td>\n",
              "      <td>1.482000</td>\n",
              "      <td>0.000000</td>\n",
              "    </tr>\n",
              "    <tr>\n",
              "      <th>25%</th>\n",
              "      <td>2.787000</td>\n",
              "      <td>2.838250</td>\n",
              "      <td>2.736250</td>\n",
              "      <td>2.781250</td>\n",
              "      <td>69065.250000</td>\n",
              "    </tr>\n",
              "    <tr>\n",
              "      <th>50%</th>\n",
              "      <td>3.764500</td>\n",
              "      <td>3.838500</td>\n",
              "      <td>3.680000</td>\n",
              "      <td>3.754000</td>\n",
              "      <td>113111.000000</td>\n",
              "    </tr>\n",
              "    <tr>\n",
              "      <th>75%</th>\n",
              "      <td>5.708750</td>\n",
              "      <td>5.878250</td>\n",
              "      <td>5.547750</td>\n",
              "      <td>5.702250</td>\n",
              "      <td>152560.000000</td>\n",
              "    </tr>\n",
              "    <tr>\n",
              "      <th>max</th>\n",
              "      <td>15.160000</td>\n",
              "      <td>15.780000</td>\n",
              "      <td>14.851000</td>\n",
              "      <td>15.378000</td>\n",
              "      <td>459196.000000</td>\n",
              "    </tr>\n",
              "  </tbody>\n",
              "</table>\n",
              "</div>\n",
              "      <button class=\"colab-df-convert\" onclick=\"convertToInteractive('df-80ea2d68-049b-43bc-b67e-b0b1ee2b8577')\"\n",
              "              title=\"Convert this dataframe to an interactive table.\"\n",
              "              style=\"display:none;\">\n",
              "        \n",
              "  <svg xmlns=\"http://www.w3.org/2000/svg\" height=\"24px\"viewBox=\"0 0 24 24\"\n",
              "       width=\"24px\">\n",
              "    <path d=\"M0 0h24v24H0V0z\" fill=\"none\"/>\n",
              "    <path d=\"M18.56 5.44l.94 2.06.94-2.06 2.06-.94-2.06-.94-.94-2.06-.94 2.06-2.06.94zm-11 1L8.5 8.5l.94-2.06 2.06-.94-2.06-.94L8.5 2.5l-.94 2.06-2.06.94zm10 10l.94 2.06.94-2.06 2.06-.94-2.06-.94-.94-2.06-.94 2.06-2.06.94z\"/><path d=\"M17.41 7.96l-1.37-1.37c-.4-.4-.92-.59-1.43-.59-.52 0-1.04.2-1.43.59L10.3 9.45l-7.72 7.72c-.78.78-.78 2.05 0 2.83L4 21.41c.39.39.9.59 1.41.59.51 0 1.02-.2 1.41-.59l7.78-7.78 2.81-2.81c.8-.78.8-2.07 0-2.86zM5.41 20L4 18.59l7.72-7.72 1.47 1.35L5.41 20z\"/>\n",
              "  </svg>\n",
              "      </button>\n",
              "      \n",
              "  <style>\n",
              "    .colab-df-container {\n",
              "      display:flex;\n",
              "      flex-wrap:wrap;\n",
              "      gap: 12px;\n",
              "    }\n",
              "\n",
              "    .colab-df-convert {\n",
              "      background-color: #E8F0FE;\n",
              "      border: none;\n",
              "      border-radius: 50%;\n",
              "      cursor: pointer;\n",
              "      display: none;\n",
              "      fill: #1967D2;\n",
              "      height: 32px;\n",
              "      padding: 0 0 0 0;\n",
              "      width: 32px;\n",
              "    }\n",
              "\n",
              "    .colab-df-convert:hover {\n",
              "      background-color: #E2EBFA;\n",
              "      box-shadow: 0px 1px 2px rgba(60, 64, 67, 0.3), 0px 1px 3px 1px rgba(60, 64, 67, 0.15);\n",
              "      fill: #174EA6;\n",
              "    }\n",
              "\n",
              "    [theme=dark] .colab-df-convert {\n",
              "      background-color: #3B4455;\n",
              "      fill: #D2E3FC;\n",
              "    }\n",
              "\n",
              "    [theme=dark] .colab-df-convert:hover {\n",
              "      background-color: #434B5C;\n",
              "      box-shadow: 0px 1px 3px 1px rgba(0, 0, 0, 0.15);\n",
              "      filter: drop-shadow(0px 1px 2px rgba(0, 0, 0, 0.3));\n",
              "      fill: #FFFFFF;\n",
              "    }\n",
              "  </style>\n",
              "\n",
              "      <script>\n",
              "        const buttonEl =\n",
              "          document.querySelector('#df-80ea2d68-049b-43bc-b67e-b0b1ee2b8577 button.colab-df-convert');\n",
              "        buttonEl.style.display =\n",
              "          google.colab.kernel.accessAllowed ? 'block' : 'none';\n",
              "\n",
              "        async function convertToInteractive(key) {\n",
              "          const element = document.querySelector('#df-80ea2d68-049b-43bc-b67e-b0b1ee2b8577');\n",
              "          const dataTable =\n",
              "            await google.colab.kernel.invokeFunction('convertToInteractive',\n",
              "                                                     [key], {});\n",
              "          if (!dataTable) return;\n",
              "\n",
              "          const docLinkHtml = 'Like what you see? Visit the ' +\n",
              "            '<a target=\"_blank\" href=https://colab.research.google.com/notebooks/data_table.ipynb>data table notebook</a>'\n",
              "            + ' to learn more about interactive tables.';\n",
              "          element.innerHTML = '';\n",
              "          dataTable['output_type'] = 'display_data';\n",
              "          await google.colab.output.renderOutput(dataTable, element);\n",
              "          const docLink = document.createElement('div');\n",
              "          docLink.innerHTML = docLinkHtml;\n",
              "          element.appendChild(docLink);\n",
              "        }\n",
              "      </script>\n",
              "    </div>\n",
              "  </div>\n",
              "  "
            ]
          },
          "metadata": {},
          "execution_count": 6
        }
      ]
    },
    {
      "cell_type": "code",
      "source": [
        "data.Close.plot(figsize = (10,7), color='r')\n",
        "plt.ylabel(\"{} Prices\".format(stocks))\n",
        "plt.title(\"{} Price Series\".format(format(stocks)))\n",
        "plt.show()"
      ],
      "metadata": {
        "colab": {
          "base_uri": "https://localhost:8080/",
          "height": 594
        },
        "id": "EzYWz2s0vuBb",
        "outputId": "32100a3a-c9fa-430b-cec3-6b9e498afc51"
      },
      "execution_count": 7,
      "outputs": [
        {
          "output_type": "display_data",
          "data": {
            "text/plain": [
              "<Figure size 1000x700 with 1 Axes>"
            ],
            "image/png": "[encoded data removed]"
          },
          "metadata": {}
        }
      ]
    },
    {
      "cell_type": "code",
      "source": [
        "sns.distplot(data[\"Close\"])"
      ],
      "metadata": {
        "colab": {
          "base_uri": "https://localhost:8080/",
          "height": 657
        },
        "id": "YG1LXgBlwXTo",
        "outputId": "75bf5ba9-5e87-438c-d570-1ab0c89d00a1"
      },
      "execution_count": 8,
      "outputs": [
        {
          "output_type": "stream",
          "name": "stderr",
          "text": [
            "<ipython-input-8-7576e4f36f65>:1: UserWarning: \n",
            "\n",
            "`distplot` is a deprecated function and will be removed in seaborn v0.14.0.\n",
            "\n",
            "Please adapt your code to use either `displot` (a figure-level function with\n",
            "similar flexibility) or `histplot` (an axes-level function for histograms).\n",
            "\n",
            "For a guide to updating your code to use the new functions, please see\n",
            "https://gist.github.com/mwaskom/de44147ed2974457ad6372750bbe5751\n",
            "\n",
            "  sns.distplot(data[\"Close\"])\n"
          ]
        },
        {
          "output_type": "execute_result",
          "data": {
            "text/plain": [
              "<Axes: xlabel='Close', ylabel='Density'>"
            ]
          },
          "metadata": {},
          "execution_count": 8
        },
        {
          "output_type": "display_data",
          "data": {
            "text/plain": [
              "<Figure size 640x480 with 1 Axes>"
            ],
            "image/png": "[encoded data removed]"
          },
          "metadata": {}
        }
      ]
    },
    {
      "cell_type": "code",
      "source": [
        "sns.distplot(data['Low'])"
      ],
      "metadata": {
        "colab": {
          "base_uri": "https://localhost:8080/",
          "height": 657
        },
        "id": "X8b5NZYcxuAQ",
        "outputId": "fe54599b-8dbf-4dfd-b3e2-b987b2a952ab"
      },
      "execution_count": 9,
      "outputs": [
        {
          "output_type": "stream",
          "name": "stderr",
          "text": [
            "<ipython-input-9-5080fb3532bc>:1: UserWarning: \n",
            "\n",
            "`distplot` is a deprecated function and will be removed in seaborn v0.14.0.\n",
            "\n",
            "Please adapt your code to use either `displot` (a figure-level function with\n",
            "similar flexibility) or `histplot` (an axes-level function for histograms).\n",
            "\n",
            "For a guide to updating your code to use the new functions, please see\n",
            "https://gist.github.com/mwaskom/de44147ed2974457ad6372750bbe5751\n",
            "\n",
            "  sns.distplot(data['Low'])\n"
          ]
        },
        {
          "output_type": "execute_result",
          "data": {
            "text/plain": [
              "<Axes: xlabel='Low', ylabel='Density'>"
            ]
          },
          "metadata": {},
          "execution_count": 9
        },
        {
          "output_type": "display_data",
          "data": {
            "text/plain": [
              "<Figure size 640x480 with 1 Axes>"
            ],
            "image/png": "[encoded data removed]"
          },
          "metadata": {}
        }
      ]
    },
    {
      "cell_type": "code",
      "source": [
        "sns.distplot(data['Open'])"
      ],
      "metadata": {
        "colab": {
          "base_uri": "https://localhost:8080/",
          "height": 657
        },
        "id": "EDocOK3cyOpU",
        "outputId": "7bbb6672-e4dc-4c89-f697-7df98ba36437"
      },
      "execution_count": 10,
      "outputs": [
        {
          "output_type": "stream",
          "name": "stderr",
          "text": [
            "<ipython-input-10-20e345d79dca>:1: UserWarning: \n",
            "\n",
            "`distplot` is a deprecated function and will be removed in seaborn v0.14.0.\n",
            "\n",
            "Please adapt your code to use either `displot` (a figure-level function with\n",
            "similar flexibility) or `histplot` (an axes-level function for histograms).\n",
            "\n",
            "For a guide to updating your code to use the new functions, please see\n",
            "https://gist.github.com/mwaskom/de44147ed2974457ad6372750bbe5751\n",
            "\n",
            "  sns.distplot(data['Open'])\n"
          ]
        },
        {
          "output_type": "execute_result",
          "data": {
            "text/plain": [
              "<Axes: xlabel='Open', ylabel='Density'>"
            ]
          },
          "metadata": {},
          "execution_count": 10
        },
        {
          "output_type": "display_data",
          "data": {
            "text/plain": [
              "<Figure size 640x480 with 1 Axes>"
            ],
            "image/png": "[encoded data removed]"
          },
          "metadata": {}
        }
      ]
    },
    {
      "cell_type": "code",
      "source": [
        "x = data.drop('Close', axis = 1)\n",
        "y = data['Close']\n",
        "\n",
        "from sklearn.model_selection import train_test_split\n",
        "x_train, x_test, y_train, y_test = train_test_split(x, y, test_size=0.2, random_state=0)\n",
        "print(x_train.shape)\n",
        "print(x_test.shape)\n",
        "print(y_train.shape)\n",
        "print(y_test.shape)"
      ],
      "metadata": {
        "colab": {
          "base_uri": "https://localhost:8080/"
        },
        "id": "iNxqU2WZyWej",
        "outputId": "fb9e2f3f-3078-46fe-f1f5-fb41ef7f5ac8"
      },
      "execution_count": 11,
      "outputs": [
        {
          "output_type": "stream",
          "name": "stdout",
          "text": [
            "(3716, 4)\n",
            "(930, 4)\n",
            "(3716,)\n",
            "(930,)\n"
          ]
        }
      ]
    },
    {
      "cell_type": "code",
      "source": [
        "from sklearn.linear_model import LinearRegression\n",
        "\n",
        "lr = LinearRegression()\n",
        "lr.fit(x_train, y_train)\n",
        "pred1 = lr.predict(x_test)"
      ],
      "metadata": {
        "id": "WVQ-X3DKzbkm"
      },
      "execution_count": 12,
      "outputs": []
    },
    {
      "cell_type": "code",
      "source": [
        "from joblib.parallel import sqrt\n",
        "from sklearn.metrics import mean_squared_error, r2_score\n",
        "\n",
        "def calculateMetrics(y_test, y_pred):\n",
        "  mse = mean_squared_error(y_test,y_pred)\n",
        "  rmse = sqrt(mse)\n",
        "  r_score = r2_score(y_test, y_pred)\n",
        "\n",
        "  print(\"MSE - \", mse)\n",
        "  print(\"RMSE - \", rmse)\n",
        "  print(\"r2_score - \", r_score)\n",
        "\n",
        "calculateMetrics(y_test, pred1)"
      ],
      "metadata": {
        "colab": {
          "base_uri": "https://localhost:8080/"
        },
        "id": "QXj9UgtL0Sml",
        "outputId": "24076ed3-2d1d-4a03-d972-a68378fa6353"
      },
      "execution_count": 13,
      "outputs": [
        {
          "output_type": "stream",
          "name": "stdout",
          "text": [
            "MSE -  0.00446455736785813\n",
            "RMSE -  0.06681734331637355\n",
            "r2_score -  0.9992514207261726\n"
          ]
        }
      ]
    },
    {
      "cell_type": "code",
      "source": [
        "from sklearn.linear_model import Lasso, Ridge\n",
        "la = Lasso().fit(x_train, y_train)\n",
        "ri = Ridge().fit(x_train, y_train)\n",
        "\n",
        "la_p = la.predict(x_test)\n",
        "ri_p = ri.predict(x_test)"
      ],
      "metadata": {
        "id": "7mUr3uRE2Oga"
      },
      "execution_count": 14,
      "outputs": []
    },
    {
      "cell_type": "code",
      "source": [
        "calculateMetrics(y_test, ri_p)"
      ],
      "metadata": {
        "colab": {
          "base_uri": "https://localhost:8080/"
        },
        "id": "H7Hs7neKG5lx",
        "outputId": "e7b5cf3d-f9c9-4577-b624-bc40ac0dbce1"
      },
      "execution_count": 16,
      "outputs": [
        {
          "output_type": "stream",
          "name": "stdout",
          "text": [
            "MSE -  0.004475791745010224\n",
            "RMSE -  0.06690135831962027\n",
            "r2_score -  0.9992495370406921\n"
          ]
        }
      ]
    },
    {
      "cell_type": "code",
      "source": [
        "calculateMetrics(y_test, la_p)"
      ],
      "metadata": {
        "colab": {
          "base_uri": "https://localhost:8080/"
        },
        "id": "LGgSGCTtHgnq",
        "outputId": "c2ed7207-d396-497e-a6af-582c639ebd1a"
      },
      "execution_count": 17,
      "outputs": [
        {
          "output_type": "stream",
          "name": "stdout",
          "text": [
            "MSE -  0.24750214738370002\n",
            "RMSE -  0.4974958767504511\n",
            "r2_score -  0.9585009302169385\n"
          ]
        }
      ]
    },
    {
      "cell_type": "code",
      "source": [
        "from sklearn.svm import SVR\n",
        "from sklearn.model_selection import GridSearchCV\n",
        "\n",
        "svr = SVR()\n",
        "\n",
        "param_grid = {'C' : [0.1, 1, 10, 100, 1000],\n",
        "              'gamma' : [1, 0.1, 0.01, 0.001, 0.0001],\n",
        "              'kernel' : ['rbf']\n",
        "              }\n",
        "\n",
        "grid = GridSearchCV(SVR(), param_grid, refit = True, verbose = 3)\n",
        "grid.fit(x_train, y_train)"
      ],
      "metadata": {
        "colab": {
          "base_uri": "https://localhost:8080/",
          "height": 1000
        },
        "id": "vHcVg3HeH0E-",
        "outputId": "a9a448c2-b8fd-4917-a154-91603f6fdb58"
      },
      "execution_count": 19,
      "outputs": [
        {
          "output_type": "stream",
          "name": "stdout",
          "text": [
            "Fitting 5 folds for each of 25 candidates, totalling 125 fits\n",
            "[CV 1/5] END .......C=0.1, gamma=1, kernel=rbf;, score=-0.098 total time=   0.5s\n",
            "[CV 2/5] END .......C=0.1, gamma=1, kernel=rbf;, score=-0.120 total time=   0.6s\n",
            "[CV 3/5] END .......C=0.1, gamma=1, kernel=rbf;, score=-0.083 total time=   0.5s\n",
            "[CV 4/5] END .......C=0.1, gamma=1, kernel=rbf;, score=-0.062 total time=   0.6s\n",
            "[CV 5/5] END .......C=0.1, gamma=1, kernel=rbf;, score=-0.101 total time=   0.5s\n",
            "[CV 1/5] END .....C=0.1, gamma=0.1, kernel=rbf;, score=-0.097 total time=   0.5s\n",
            "[CV 2/5] END .....C=0.1, gamma=0.1, kernel=rbf;, score=-0.119 total time=   0.5s\n",
            "[CV 3/5] END .....C=0.1, gamma=0.1, kernel=rbf;, score=-0.081 total time=   0.5s\n",
            "[CV 4/5] END .....C=0.1, gamma=0.1, kernel=rbf;, score=-0.060 total time=   0.5s\n",
            "[CV 5/5] END .....C=0.1, gamma=0.1, kernel=rbf;, score=-0.099 total time=   0.5s\n",
            "[CV 1/5] END ....C=0.1, gamma=0.01, kernel=rbf;, score=-0.094 total time=   0.5s\n",
            "[CV 2/5] END ....C=0.1, gamma=0.01, kernel=rbf;, score=-0.115 total time=   0.5s\n",
            "[CV 3/5] END ....C=0.1, gamma=0.01, kernel=rbf;, score=-0.077 total time=   1.0s\n",
            "[CV 4/5] END ....C=0.1, gamma=0.01, kernel=rbf;, score=-0.057 total time=   1.0s\n",
            "[CV 5/5] END ....C=0.1, gamma=0.01, kernel=rbf;, score=-0.094 total time=   1.0s\n",
            "[CV 1/5] END ...C=0.1, gamma=0.001, kernel=rbf;, score=-0.083 total time=   0.5s\n",
            "[CV 2/5] END ...C=0.1, gamma=0.001, kernel=rbf;, score=-0.105 total time=   0.6s\n",
            "[CV 3/5] END ...C=0.1, gamma=0.001, kernel=rbf;, score=-0.064 total time=   0.6s\n",
            "[CV 4/5] END ...C=0.1, gamma=0.001, kernel=rbf;, score=-0.046 total time=   0.5s\n",
            "[CV 5/5] END ...C=0.1, gamma=0.001, kernel=rbf;, score=-0.081 total time=   0.6s\n",
            "[CV 1/5] END ..C=0.1, gamma=0.0001, kernel=rbf;, score=-0.049 total time=   0.6s\n",
            "[CV 2/5] END ..C=0.1, gamma=0.0001, kernel=rbf;, score=-0.067 total time=   0.6s\n",
            "[CV 3/5] END ..C=0.1, gamma=0.0001, kernel=rbf;, score=-0.026 total time=   0.6s\n",
            "[CV 4/5] END ..C=0.1, gamma=0.0001, kernel=rbf;, score=-0.009 total time=   0.6s\n",
            "[CV 5/5] END ..C=0.1, gamma=0.0001, kernel=rbf;, score=-0.047 total time=   0.6s\n",
            "[CV 1/5] END .........C=1, gamma=1, kernel=rbf;, score=-0.085 total time=   0.6s\n",
            "[CV 2/5] END .........C=1, gamma=1, kernel=rbf;, score=-0.110 total time=   0.6s\n",
            "[CV 3/5] END .........C=1, gamma=1, kernel=rbf;, score=-0.064 total time=   1.6s\n",
            "[CV 4/5] END .........C=1, gamma=1, kernel=rbf;, score=-0.049 total time=   0.6s\n",
            "[CV 5/5] END .........C=1, gamma=1, kernel=rbf;, score=-0.092 total time=   0.6s\n",
            "[CV 1/5] END .......C=1, gamma=0.1, kernel=rbf;, score=-0.075 total time=   0.9s\n",
            "[CV 2/5] END .......C=1, gamma=0.1, kernel=rbf;, score=-0.101 total time=   1.2s\n",
            "[CV 3/5] END .......C=1, gamma=0.1, kernel=rbf;, score=-0.049 total time=   1.0s\n",
            "[CV 4/5] END .......C=1, gamma=0.1, kernel=rbf;, score=-0.035 total time=   0.6s\n",
            "[CV 5/5] END .......C=1, gamma=0.1, kernel=rbf;, score=-0.079 total time=   0.6s\n",
            "[CV 1/5] END ......C=1, gamma=0.01, kernel=rbf;, score=-0.053 total time=   0.6s\n",
            "[CV 2/5] END ......C=1, gamma=0.01, kernel=rbf;, score=-0.074 total time=   0.7s\n",
            "[CV 3/5] END ......C=1, gamma=0.01, kernel=rbf;, score=-0.017 total time=   0.6s\n",
            "[CV 4/5] END ......C=1, gamma=0.01, kernel=rbf;, score=-0.004 total time=   0.6s\n",
            "[CV 5/5] END ......C=1, gamma=0.01, kernel=rbf;, score=-0.040 total time=   0.6s\n",
            "[CV 1/5] END ......C=1, gamma=0.001, kernel=rbf;, score=0.015 total time=   0.6s\n",
            "[CV 2/5] END ......C=1, gamma=0.001, kernel=rbf;, score=0.004 total time=   0.6s\n",
            "[CV 3/5] END ......C=1, gamma=0.001, kernel=rbf;, score=0.061 total time=   0.6s\n",
            "[CV 4/5] END ......C=1, gamma=0.001, kernel=rbf;, score=0.057 total time=   0.6s\n",
            "[CV 5/5] END ......C=1, gamma=0.001, kernel=rbf;, score=0.037 total time=   0.6s\n",
            "[CV 1/5] END .....C=1, gamma=0.0001, kernel=rbf;, score=0.142 total time=   0.6s\n",
            "[CV 2/5] END .....C=1, gamma=0.0001, kernel=rbf;, score=0.128 total time=   0.6s\n",
            "[CV 3/5] END .....C=1, gamma=0.0001, kernel=rbf;, score=0.158 total time=   1.0s\n",
            "[CV 4/5] END .....C=1, gamma=0.0001, kernel=rbf;, score=0.167 total time=   1.6s\n",
            "[CV 5/5] END .....C=1, gamma=0.0001, kernel=rbf;, score=0.147 total time=   2.0s\n",
            "[CV 1/5] END .........C=10, gamma=1, kernel=rbf;, score=0.027 total time=   2.0s\n",
            "[CV 2/5] END .........C=10, gamma=1, kernel=rbf;, score=0.006 total time=   1.4s\n",
            "[CV 3/5] END .........C=10, gamma=1, kernel=rbf;, score=0.025 total time=   1.1s\n",
            "[CV 4/5] END .........C=10, gamma=1, kernel=rbf;, score=0.021 total time=   0.8s\n",
            "[CV 5/5] END .........C=10, gamma=1, kernel=rbf;, score=0.022 total time=   0.8s\n",
            "[CV 1/5] END .......C=10, gamma=0.1, kernel=rbf;, score=0.043 total time=   0.8s\n",
            "[CV 2/5] END .......C=10, gamma=0.1, kernel=rbf;, score=0.020 total time=   2.7s\n",
            "[CV 3/5] END .......C=10, gamma=0.1, kernel=rbf;, score=0.058 total time=   3.3s\n",
            "[CV 4/5] END .......C=10, gamma=0.1, kernel=rbf;, score=0.046 total time=   1.7s\n",
            "[CV 5/5] END .......C=10, gamma=0.1, kernel=rbf;, score=0.051 total time=   1.5s\n",
            "[CV 1/5] END ......C=10, gamma=0.01, kernel=rbf;, score=0.067 total time=   1.4s\n",
            "[CV 2/5] END ......C=10, gamma=0.01, kernel=rbf;, score=0.067 total time=   0.9s\n",
            "[CV 3/5] END ......C=10, gamma=0.01, kernel=rbf;, score=0.116 total time=   0.9s\n",
            "[CV 4/5] END ......C=10, gamma=0.01, kernel=rbf;, score=0.073 total time=   1.2s\n",
            "[CV 5/5] END ......C=10, gamma=0.01, kernel=rbf;, score=0.117 total time=   1.2s\n",
            "[CV 1/5] END .....C=10, gamma=0.001, kernel=rbf;, score=0.033 total time=   1.4s\n",
            "[CV 2/5] END .....C=10, gamma=0.001, kernel=rbf;, score=0.112 total time=   4.1s\n",
            "[CV 3/5] END .....C=10, gamma=0.001, kernel=rbf;, score=0.064 total time=   1.4s\n",
            "[CV 4/5] END .....C=10, gamma=0.001, kernel=rbf;, score=0.058 total time=   1.3s\n",
            "[CV 5/5] END .....C=10, gamma=0.001, kernel=rbf;, score=0.126 total time=   1.2s\n",
            "[CV 1/5] END ...C=10, gamma=0.0001, kernel=rbf;, score=-0.016 total time=   1.4s\n",
            "[CV 2/5] END ....C=10, gamma=0.0001, kernel=rbf;, score=0.010 total time=   1.7s\n",
            "[CV 3/5] END ...C=10, gamma=0.0001, kernel=rbf;, score=-0.046 total time=   1.5s\n",
            "[CV 4/5] END ....C=10, gamma=0.0001, kernel=rbf;, score=0.041 total time=   1.2s\n",
            "[CV 5/5] END ....C=10, gamma=0.0001, kernel=rbf;, score=0.082 total time=   3.0s\n",
            "[CV 1/5] END ........C=100, gamma=1, kernel=rbf;, score=0.027 total time=   2.2s\n",
            "[CV 2/5] END ........C=100, gamma=1, kernel=rbf;, score=0.006 total time=   2.5s\n",
            "[CV 3/5] END ........C=100, gamma=1, kernel=rbf;, score=0.025 total time=   1.3s\n",
            "[CV 4/5] END ........C=100, gamma=1, kernel=rbf;, score=0.021 total time=   2.0s\n",
            "[CV 5/5] END ........C=100, gamma=1, kernel=rbf;, score=0.022 total time=   1.4s\n",
            "[CV 1/5] END ......C=100, gamma=0.1, kernel=rbf;, score=0.043 total time=   2.5s\n",
            "[CV 2/5] END ......C=100, gamma=0.1, kernel=rbf;, score=0.020 total time=   2.1s\n",
            "[CV 3/5] END ......C=100, gamma=0.1, kernel=rbf;, score=0.058 total time=   1.7s\n",
            "[CV 4/5] END ......C=100, gamma=0.1, kernel=rbf;, score=0.046 total time=   1.7s\n",
            "[CV 5/5] END ......C=100, gamma=0.1, kernel=rbf;, score=0.051 total time=   1.8s\n",
            "[CV 1/5] END .....C=100, gamma=0.01, kernel=rbf;, score=0.067 total time=   1.5s\n",
            "[CV 2/5] END .....C=100, gamma=0.01, kernel=rbf;, score=0.067 total time=   3.1s\n",
            "[CV 3/5] END .....C=100, gamma=0.01, kernel=rbf;, score=0.116 total time=   3.1s\n",
            "[CV 4/5] END .....C=100, gamma=0.01, kernel=rbf;, score=0.074 total time=   1.4s\n",
            "[CV 5/5] END .....C=100, gamma=0.01, kernel=rbf;, score=0.117 total time=   1.3s\n",
            "[CV 1/5] END ....C=100, gamma=0.001, kernel=rbf;, score=0.035 total time=   1.2s\n",
            "[CV 2/5] END ....C=100, gamma=0.001, kernel=rbf;, score=0.104 total time=   1.3s\n",
            "[CV 3/5] END ....C=100, gamma=0.001, kernel=rbf;, score=0.046 total time=   1.2s\n",
            "[CV 4/5] END ....C=100, gamma=0.001, kernel=rbf;, score=0.080 total time=   1.3s\n",
            "[CV 5/5] END ....C=100, gamma=0.001, kernel=rbf;, score=0.117 total time=   1.4s\n",
            "[CV 1/5] END ..C=100, gamma=0.0001, kernel=rbf;, score=-0.285 total time=   4.5s\n",
            "[CV 2/5] END ..C=100, gamma=0.0001, kernel=rbf;, score=-0.310 total time=   3.2s\n",
            "[CV 3/5] END ..C=100, gamma=0.0001, kernel=rbf;, score=-0.687 total time=   3.1s\n",
            "[CV 4/5] END ..C=100, gamma=0.0001, kernel=rbf;, score=-0.211 total time=   3.4s\n",
            "[CV 5/5] END ..C=100, gamma=0.0001, kernel=rbf;, score=-0.255 total time=   4.0s\n",
            "[CV 1/5] END .......C=1000, gamma=1, kernel=rbf;, score=0.027 total time=   0.9s\n",
            "[CV 2/5] END .......C=1000, gamma=1, kernel=rbf;, score=0.006 total time=   0.8s\n",
            "[CV 3/5] END .......C=1000, gamma=1, kernel=rbf;, score=0.025 total time=   0.9s\n",
            "[CV 4/5] END .......C=1000, gamma=1, kernel=rbf;, score=0.021 total time=   0.8s\n",
            "[CV 5/5] END .......C=1000, gamma=1, kernel=rbf;, score=0.022 total time=   0.8s\n",
            "[CV 1/5] END .....C=1000, gamma=0.1, kernel=rbf;, score=0.043 total time=   0.8s\n",
            "[CV 2/5] END .....C=1000, gamma=0.1, kernel=rbf;, score=0.020 total time=   0.9s\n",
            "[CV 3/5] END .....C=1000, gamma=0.1, kernel=rbf;, score=0.058 total time=   0.8s\n",
            "[CV 4/5] END .....C=1000, gamma=0.1, kernel=rbf;, score=0.046 total time=   0.8s\n",
            "[CV 5/5] END .....C=1000, gamma=0.1, kernel=rbf;, score=0.051 total time=   1.3s\n",
            "[CV 1/5] END ....C=1000, gamma=0.01, kernel=rbf;, score=0.067 total time=   1.5s\n",
            "[CV 2/5] END ....C=1000, gamma=0.01, kernel=rbf;, score=0.067 total time=   0.9s\n",
            "[CV 3/5] END ....C=1000, gamma=0.01, kernel=rbf;, score=0.116 total time=   0.9s\n",
            "[CV 4/5] END ....C=1000, gamma=0.01, kernel=rbf;, score=0.074 total time=   0.9s\n",
            "[CV 5/5] END ....C=1000, gamma=0.01, kernel=rbf;, score=0.117 total time=   0.9s\n",
            "[CV 1/5] END ...C=1000, gamma=0.001, kernel=rbf;, score=0.036 total time=   1.3s\n",
            "[CV 2/5] END ...C=1000, gamma=0.001, kernel=rbf;, score=0.104 total time=   1.4s\n",
            "[CV 3/5] END ...C=1000, gamma=0.001, kernel=rbf;, score=0.040 total time=   1.2s\n",
            "[CV 4/5] END ...C=1000, gamma=0.001, kernel=rbf;, score=0.083 total time=   1.4s\n",
            "[CV 5/5] END ...C=1000, gamma=0.001, kernel=rbf;, score=0.117 total time=   1.6s\n",
            "[CV 1/5] END .C=1000, gamma=0.0001, kernel=rbf;, score=-0.344 total time=  19.8s\n",
            "[CV 2/5] END .C=1000, gamma=0.0001, kernel=rbf;, score=-0.291 total time=  20.5s\n",
            "[CV 3/5] END .C=1000, gamma=0.0001, kernel=rbf;, score=-0.798 total time=  21.3s\n",
            "[CV 4/5] END .C=1000, gamma=0.0001, kernel=rbf;, score=-0.238 total time=  19.7s\n",
            "[CV 5/5] END .C=1000, gamma=0.0001, kernel=rbf;, score=-0.203 total time=  17.4s\n"
          ]
        },
        {
          "output_type": "execute_result",
          "data": {
            "text/plain": [
              "GridSearchCV(estimator=SVR(),\n",
              "             param_grid={'C': [0.1, 1, 10, 100, 1000],\n",
              "                         'gamma': [1, 0.1, 0.01, 0.001, 0.0001],\n",
              "                         'kernel': ['rbf']},\n",
              "             verbose=3)"
            ],
            "text/html": [
              "<style>#sk-container-id-1 {color: black;background-color: white;}#sk-container-id-1 pre{padding: 0;}#sk-container-id-1 div.sk-toggleable {background-color: white;}#sk-container-id-1 label.sk-toggleable__label {cursor: pointer;display: block;width: 100%;margin-bottom: 0;padding: 0.3em;box-sizing: border-box;text-align: center;}#sk-container-id-1 label.sk-toggleable__label-arrow:before {content: \"▸\";float: left;margin-right: 0.25em;color: #696969;}#sk-container-id-1 label.sk-toggleable__label-arrow:hover:before {color: black;}#sk-container-id-1 div.sk-estimator:hover label.sk-toggleable__label-arrow:before {color: black;}#sk-container-id-1 div.sk-toggleable__content {max-height: 0;max-width: 0;overflow: hidden;text-align: left;background-color: #f0f8ff;}#sk-container-id-1 div.sk-toggleable__content pre {margin: 0.2em;color: black;border-radius: 0.25em;background-color: #f0f8ff;}#sk-container-id-1 input.sk-toggleable__control:checked~div.sk-toggleable__content {max-height: 200px;max-width: 100%;overflow: auto;}#sk-container-id-1 input.sk-toggleable__control:checked~label.sk-toggleable__label-arrow:before {content: \"▾\";}#sk-container-id-1 div.sk-estimator input.sk-toggleable__control:checked~label.sk-toggleable__label {background-color: #d4ebff;}#sk-container-id-1 div.sk-label input.sk-toggleable__control:checked~label.sk-toggleable__label {background-color: #d4ebff;}#sk-container-id-1 input.sk-hidden--visually {border: 0;clip: rect(1px 1px 1px 1px);clip: rect(1px, 1px, 1px, 1px);height: 1px;margin: -1px;overflow: hidden;padding: 0;position: absolute;width: 1px;}#sk-container-id-1 div.sk-estimator {font-family: monospace;background-color: #f0f8ff;border: 1px dotted black;border-radius: 0.25em;box-sizing: border-box;margin-bottom: 0.5em;}#sk-container-id-1 div.sk-estimator:hover {background-color: #d4ebff;}#sk-container-id-1 div.sk-parallel-item::after {content: \"\";width: 100%;border-bottom: 1px solid gray;flex-grow: 1;}#sk-container-id-1 div.sk-label:hover label.sk-toggleable__label {background-color: #d4ebff;}#sk-container-id-1 div.sk-serial::before {content: \"\";position: absolute;border-left: 1px solid gray;box-sizing: border-box;top: 0;bottom: 0;left: 50%;z-index: 0;}#sk-container-id-1 div.sk-serial {display: flex;flex-direction: column;align-items: center;background-color: white;padding-right: 0.2em;padding-left: 0.2em;position: relative;}#sk-container-id-1 div.sk-item {position: relative;z-index: 1;}#sk-container-id-1 div.sk-parallel {display: flex;align-items: stretch;justify-content: center;background-color: white;position: relative;}#sk-container-id-1 div.sk-item::before, #sk-container-id-1 div.sk-parallel-item::before {content: \"\";position: absolute;border-left: 1px solid gray;box-sizing: border-box;top: 0;bottom: 0;left: 50%;z-index: -1;}#sk-container-id-1 div.sk-parallel-item {display: flex;flex-direction: column;z-index: 1;position: relative;background-color: white;}#sk-container-id-1 div.sk-parallel-item:first-child::after {align-self: flex-end;width: 50%;}#sk-container-id-1 div.sk-parallel-item:last-child::after {align-self: flex-start;width: 50%;}#sk-container-id-1 div.sk-parallel-item:only-child::after {width: 0;}#sk-container-id-1 div.sk-dashed-wrapped {border: 1px dashed gray;margin: 0 0.4em 0.5em 0.4em;box-sizing: border-box;padding-bottom: 0.4em;background-color: white;}#sk-container-id-1 div.sk-label label {font-family: monospace;font-weight: bold;display: inline-block;line-height: 1.2em;}#sk-container-id-1 div.sk-label-container {text-align: center;}#sk-container-id-1 div.sk-container {/* jupyter's `normalize.less` sets `[hidden] { display: none; }` but bootstrap.min.css set `[hidden] { display: none !important; }` so we also need the `!important` here to be able to override the default hidden behavior on the sphinx rendered scikit-learn.org. See: https://github.com/scikit-learn/scikit-learn/issues/21755 */display: inline-block !important;position: relative;}#sk-container-id-1 div.sk-text-repr-fallback {display: none;}</style><div id=\"sk-container-id-1\" class=\"sk-top-container\"><div class=\"sk-text-repr-fallback\"><pre>GridSearchCV(estimator=SVR(),\n",
              "             param_grid={&#x27;C&#x27;: [0.1, 1, 10, 100, 1000],\n",
              "                         &#x27;gamma&#x27;: [1, 0.1, 0.01, 0.001, 0.0001],\n",
              "                         &#x27;kernel&#x27;: [&#x27;rbf&#x27;]},\n",
              "             verbose=3)</pre><b>In a Jupyter environment, please rerun this cell to show the HTML representation or trust the notebook. <br />On GitHub, the HTML representation is unable to render, please try loading this page with nbviewer.org.</b></div><div class=\"sk-container\" hidden><div class=\"sk-item sk-dashed-wrapped\"><div class=\"sk-label-container\"><div class=\"sk-label sk-toggleable\"><input class=\"sk-toggleable__control sk-hidden--visually\" id=\"sk-estimator-id-1\" type=\"checkbox\" ><label for=\"sk-estimator-id-1\" class=\"sk-toggleable__label sk-toggleable__label-arrow\">GridSearchCV</label><div class=\"sk-toggleable__content\"><pre>GridSearchCV(estimator=SVR(),\n",
              "             param_grid={&#x27;C&#x27;: [0.1, 1, 10, 100, 1000],\n",
              "                         &#x27;gamma&#x27;: [1, 0.1, 0.01, 0.001, 0.0001],\n",
              "                         &#x27;kernel&#x27;: [&#x27;rbf&#x27;]},\n",
              "             verbose=3)</pre></div></div></div><div class=\"sk-parallel\"><div class=\"sk-parallel-item\"><div class=\"sk-item\"><div class=\"sk-label-container\"><div class=\"sk-label sk-toggleable\"><input class=\"sk-toggleable__control sk-hidden--visually\" id=\"sk-estimator-id-2\" type=\"checkbox\" ><label for=\"sk-estimator-id-2\" class=\"sk-toggleable__label sk-toggleable__label-arrow\">estimator: SVR</label><div class=\"sk-toggleable__content\"><pre>SVR()</pre></div></div></div><div class=\"sk-serial\"><div class=\"sk-item\"><div class=\"sk-estimator sk-toggleable\"><input class=\"sk-toggleable__control sk-hidden--visually\" id=\"sk-estimator-id-3\" type=\"checkbox\" ><label for=\"sk-estimator-id-3\" class=\"sk-toggleable__label sk-toggleable__label-arrow\">SVR</label><div class=\"sk-toggleable__content\"><pre>SVR()</pre></div></div></div></div></div></div></div></div></div></div>"
            ]
          },
          "metadata": {},
          "execution_count": 19
        }
      ]
    },
    {
      "cell_type": "code",
      "source": [
        "svr = SVR(C=10, gamma=0.01, kernel = 'rbf')\n",
        "svr.fit(x_train, y_train)\n",
        "svr_pred = svr.predict(x_test)"
      ],
      "metadata": {
        "id": "UmH_f5CgKMNb"
      },
      "execution_count": 20,
      "outputs": []
    },
    {
      "cell_type": "code",
      "source": [],
      "metadata": {
        "id": "d2JcFK4ZLglO"
      },
      "execution_count": null,
      "outputs": []
    }
  ]
}